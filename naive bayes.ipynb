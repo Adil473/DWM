{
 "cells": [
  {
   "cell_type": "code",
   "execution_count": 160,
   "metadata": {},
   "outputs": [
    {
     "name": "stdout",
     "output_type": "stream",
     "text": [
      "     Outlook Temperature Humidity  Windy Play\n",
      "0   overcast         hot     high  False  yes\n",
      "1   overcast        cool   normal   True  yes\n",
      "2   overcast        mild     high   True  yes\n",
      "3   overcast         hot   normal  False  yes\n",
      "4      rainy        mild     high  False  yes\n",
      "5      rainy        cool   normal  False  yes\n",
      "6      rainy        cool   normal   True   no\n",
      "7      rainy        mild   normal  False  yes\n",
      "8      rainy        mild     high   True   no\n",
      "9      sunny         hot     high  False   no\n",
      "10     sunny         hot     high   True   no\n",
      "11     sunny        mild     high  False   no\n",
      "12     sunny        cool   normal  False  yes\n",
      "13     sunny        mild   normal   True  yes\n"
     ]
    }
   ],
   "source": [
    "import pandas as pd\n",
    "data = pd.read_csv('golf.csv')\n",
    "print(data)"
   ]
  },
  {
   "cell_type": "code",
   "execution_count": 161,
   "metadata": {},
   "outputs": [
    {
     "data": {
      "text/html": [
       "<div>\n",
       "<style scoped>\n",
       "    .dataframe tbody tr th:only-of-type {\n",
       "        vertical-align: middle;\n",
       "    }\n",
       "\n",
       "    .dataframe tbody tr th {\n",
       "        vertical-align: top;\n",
       "    }\n",
       "\n",
       "    .dataframe thead th {\n",
       "        text-align: right;\n",
       "    }\n",
       "</style>\n",
       "<table border=\"1\" class=\"dataframe\">\n",
       "  <thead>\n",
       "    <tr style=\"text-align: right;\">\n",
       "      <th></th>\n",
       "      <th>Outlook</th>\n",
       "      <th>Temperature</th>\n",
       "      <th>Humidity</th>\n",
       "      <th>Windy</th>\n",
       "      <th>Play</th>\n",
       "    </tr>\n",
       "  </thead>\n",
       "  <tbody>\n",
       "    <tr>\n",
       "      <th>0</th>\n",
       "      <td>overcast</td>\n",
       "      <td>hot</td>\n",
       "      <td>high</td>\n",
       "      <td>False</td>\n",
       "      <td>yes</td>\n",
       "    </tr>\n",
       "    <tr>\n",
       "      <th>1</th>\n",
       "      <td>overcast</td>\n",
       "      <td>cool</td>\n",
       "      <td>normal</td>\n",
       "      <td>True</td>\n",
       "      <td>yes</td>\n",
       "    </tr>\n",
       "  </tbody>\n",
       "</table>\n",
       "</div>"
      ],
      "text/plain": [
       "    Outlook Temperature Humidity  Windy Play\n",
       "0  overcast         hot     high  False  yes\n",
       "1  overcast        cool   normal   True  yes"
      ]
     },
     "execution_count": 161,
     "metadata": {},
     "output_type": "execute_result"
    }
   ],
   "source": [
    "data.head(2)"
   ]
  },
  {
   "cell_type": "code",
   "execution_count": 162,
   "metadata": {},
   "outputs": [],
   "source": [
    "outlook = data[\"Outlook\"].values\n",
    "temp = data[\"Temperature\"].values\n",
    "humid = data[\"Humidity\"].values\n",
    "windy = data[\"Windy\"].values\n",
    "play = data[\"Play\"].values"
   ]
  },
  {
   "cell_type": "code",
   "execution_count": 163,
   "metadata": {},
   "outputs": [
    {
     "name": "stdout",
     "output_type": "stream",
     "text": [
      "['overcast' 'overcast' 'overcast' 'overcast' 'rainy' 'rainy' 'rainy'\n",
      " 'rainy' 'rainy' 'sunny' 'sunny' 'sunny' 'sunny' 'sunny']\n",
      "['hot' 'cool' 'mild' 'hot' 'mild' 'cool' 'cool' 'mild' 'mild' 'hot' 'hot'\n",
      " 'mild' 'cool' 'mild']\n",
      "['high' 'normal' 'high' 'normal' 'high' 'normal' 'normal' 'normal' 'high'\n",
      " 'high' 'high' 'high' 'normal' 'normal']\n",
      "[False  True  True False False False  True False  True False  True False\n",
      " False  True]\n",
      "['yes' 'yes' 'yes' 'yes' 'yes' 'yes' 'no' 'yes' 'no' 'no' 'no' 'no' 'yes'\n",
      " 'yes']\n"
     ]
    }
   ],
   "source": [
    "print(outlook)\n",
    "print(temp)\n",
    "print(humid)\n",
    "print(windy)\n",
    "print(play)"
   ]
  },
  {
   "cell_type": "code",
   "execution_count": 164,
   "metadata": {},
   "outputs": [
    {
     "data": {
      "text/plain": [
       "14"
      ]
     },
     "execution_count": 164,
     "metadata": {},
     "output_type": "execute_result"
    }
   ],
   "source": [
    "count = data.count()[4]\n",
    "count"
   ]
  },
  {
   "cell_type": "code",
   "execution_count": 165,
   "metadata": {},
   "outputs": [],
   "source": [
    "inp_outlook = input(\"Enter outlook: \")\n",
    "inp_temp = input(\"Enter Temperature: \")\n",
    "inp_humidity = input(\"Enter humidity: \")\n",
    "inp_windy = input(\"If it is windy or no: \")"
   ]
  },
  {
   "cell_type": "code",
   "execution_count": 166,
   "metadata": {},
   "outputs": [
    {
     "data": {
      "text/plain": [
       "(9, 5)"
      ]
     },
     "execution_count": 166,
     "metadata": {},
     "output_type": "execute_result"
    }
   ],
   "source": [
    "play_yes, play_no = 0,0\n",
    "\n",
    "for i in play:\n",
    "    if(i == \"yes\"):\n",
    "        play_yes += 1\n",
    "    else:\n",
    "        play_no += 1\n",
    "    \n",
    "play_yes, play_no"
   ]
  },
  {
   "cell_type": "code",
   "execution_count": 167,
   "metadata": {},
   "outputs": [
    {
     "data": {
      "text/plain": [
       "(0.6428571428571429, 0.35714285714285715)"
      ]
     },
     "execution_count": 167,
     "metadata": {},
     "output_type": "execute_result"
    }
   ],
   "source": [
    "prob_yes = play_yes/count\n",
    "prob_no = play_no/count\n",
    "\n",
    "prob_yes, prob_no"
   ]
  },
  {
   "cell_type": "code",
   "execution_count": 168,
   "metadata": {},
   "outputs": [
    {
     "data": {
      "text/plain": [
       "(0.3333333333333333, 0.4)"
      ]
     },
     "execution_count": 168,
     "metadata": {},
     "output_type": "execute_result"
    }
   ],
   "source": [
    "\n",
    "# outlook\n",
    "outlook_yes, outlook_no = 0, 0\n",
    "\n",
    "for i in range(0, count):\n",
    "    if(outlook[i] == inp_outlook ):\n",
    "        if(play[i] == \"yes\"):\n",
    "            outlook_yes += 1\n",
    "        else:\n",
    "            outlook_no += 1\n",
    "\n",
    "outlook_yes, outlook_no\n",
    "\n",
    "inp_outlook_yes = outlook_yes/play_yes\n",
    "inp_outlook_no = outlook_no/play_no\n",
    "\n",
    "\n",
    "inp_outlook_yes, inp_outlook_no\n"
   ]
  },
  {
   "cell_type": "code",
   "execution_count": 169,
   "metadata": {},
   "outputs": [
    {
     "data": {
      "text/plain": [
       "(0.4444444444444444, 0.4)"
      ]
     },
     "execution_count": 169,
     "metadata": {},
     "output_type": "execute_result"
    }
   ],
   "source": [
    "# temp\n",
    "temp_yes, temp_no = 0, 0\n",
    "\n",
    "for i in range(0, count):\n",
    "    if(temp[i] == inp_temp ):\n",
    "        if(play[i] == \"yes\"):\n",
    "            temp_yes += 1\n",
    "        else:\n",
    "            temp_no += 1\n",
    "\n",
    "temp_yes, temp_no\n",
    "\n",
    "inp_temp_yes = temp_yes/play_yes\n",
    "inp_temp_no = temp_no/play_no\n",
    "\n",
    "\n",
    "inp_temp_yes, inp_temp_no"
   ]
  },
  {
   "cell_type": "code",
   "execution_count": 170,
   "metadata": {},
   "outputs": [
    {
     "data": {
      "text/plain": [
       "(0.6666666666666666, 0.2)"
      ]
     },
     "execution_count": 170,
     "metadata": {},
     "output_type": "execute_result"
    }
   ],
   "source": [
    "# humidity\n",
    "humid_yes, humid_no = 0, 0\n",
    "\n",
    "for i in range(0, count):\n",
    "    if(humid[i] == inp_humidity ):\n",
    "        if(play[i] == \"yes\"):\n",
    "            humid_yes += 1\n",
    "        else:\n",
    "            humid_no += 1\n",
    "\n",
    "humid_yes, humid_no\n",
    "\n",
    "inp_humid_yes = humid_yes/play_yes\n",
    "inp_humid_no = humid_no/play_no\n",
    "\n",
    "\n",
    "inp_humid_yes, inp_humid_no"
   ]
  },
  {
   "cell_type": "code",
   "execution_count": 171,
   "metadata": {},
   "outputs": [
    {
     "data": {
      "text/plain": [
       "(0.3333333333333333, 0.6)"
      ]
     },
     "execution_count": 171,
     "metadata": {},
     "output_type": "execute_result"
    }
   ],
   "source": [
    "# windy\n",
    "windy_yes, windy_no = 0, 0\n",
    "\n",
    "for i in range(0, count):\n",
    "    if(str(windy[i]) == inp_windy):\n",
    "        if(play[i] == \"yes\"):\n",
    "            windy_yes += 1\n",
    "        else:\n",
    "            windy_no += 1\n",
    "\n",
    "windy_yes, windy_no\n",
    "\n",
    "inp_windy_yes = windy_yes/play_yes\n",
    "inp_windy_no = windy_no/play_no\n",
    "\n",
    "\n",
    "inp_windy_yes, inp_windy_no"
   ]
  },
  {
   "cell_type": "code",
   "execution_count": 172,
   "metadata": {},
   "outputs": [
    {
     "name": "stdout",
     "output_type": "stream",
     "text": [
      "Players can play.\n"
     ]
    }
   ],
   "source": [
    "can_play = prob_yes * inp_outlook_yes * inp_temp_yes * inp_humid_yes * inp_windy_yes\n",
    "cannot_play = prob_no * inp_outlook_no * inp_temp_no * inp_humid_no * inp_windy_no\n",
    "\n",
    "\n",
    "if(can_play > cannot_play):\n",
    "    print(\"Players can play.\")\n",
    "else:\n",
    "    print(\"Players cannot play.\")"
   ]
  }
 ],
 "metadata": {
  "kernelspec": {
   "display_name": "Python 3.8.8 ('base')",
   "language": "python",
   "name": "python3"
  },
  "language_info": {
   "codemirror_mode": {
    "name": "ipython",
    "version": 3
   },
   "file_extension": ".py",
   "mimetype": "text/x-python",
   "name": "python",
   "nbconvert_exporter": "python",
   "pygments_lexer": "ipython3",
   "version": "3.8.8"
  },
  "orig_nbformat": 4,
  "vscode": {
   "interpreter": {
    "hash": "dc07d24e2f18896857f0b2a651fe84ba40ce7b297e58d8804a308c8039f752a6"
   }
  }
 },
 "nbformat": 4,
 "nbformat_minor": 2
}
